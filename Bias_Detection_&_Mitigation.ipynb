{
  "nbformat": 4,
  "nbformat_minor": 0,
  "metadata": {
    "colab": {
      "name": "Bias_Detection_&_Mitigation.ipynb",
      "provenance": [],
      "collapsed_sections": []
    },
    "kernelspec": {
      "display_name": "Python 3",
      "language": "python",
      "name": "python3"
    },
    "language_info": {
      "codemirror_mode": {
        "name": "ipython",
        "version": 3
      },
      "file_extension": ".py",
      "mimetype": "text/x-python",
      "name": "python",
      "nbconvert_exporter": "python",
      "pygments_lexer": "ipython3",
      "version": "3.8.8"
    }
  },
  "cells": [
    {
      "cell_type": "markdown",
      "metadata": {
        "id": "JJ1Nm6-S5h-J"
      },
      "source": [
        "# Bias Detection and Mitigation"
      ]
    },
    {
      "cell_type": "markdown",
      "metadata": {
        "id": "2qah4n_d6Ij7"
      },
      "source": [
        "# Overview\n",
        "\n",
        "\n",
        "1. [Introduction](#Getting-Started)\n",
        "2. [Setup & Data analysis](#)\n",
        "    * [Install additional libraries](#)\n",
        "    * [Import installed libraries](#)\n",
        "    * [Download and read data](#)\n",
        "    * [Preprocessing and data analysis](#)  \n",
        "3. [Measure fairness on test set (before applying a ML model)](#)\n",
        "    * [Metrics used to measure fairness](#)\n",
        "    * [Measure of fairness on test set](#)\n",
        "4. [Apply a simple machine learning model : Logistic Regression](#)\n",
        "    * [Simple explanations about logistic regression](#)\n",
        "    * [Apply a logistic regression model](#)\n",
        "    * [Evaluate results](#)\n",
        "\n",
        "5. [Apply a logistic regression model](#)    \n",
        "6. [Impacts of swapping gender attributes on loan eligibility](#)\n",
        "7. [Correcting Bias](#)\n",
        "8. [Conclusion](#)\n"
      ]
    },
    {
      "cell_type": "markdown",
      "metadata": {
        "id": "5L400QGz5h-T"
      },
      "source": [
        "# 1. Introduction\n",
        "This notebook aims to show that machine learning models are exposed to risks like risks of bias, and to introduce some simple techniques to detect and mitigate bias.\n",
        "\n",
        "In this case study, we suppose that we are working for a credit institution. The client wants to automate the loan eligibility process thanks to a binary classification ML model trained on historical data.\n",
        "\n",
        "Regarding the dataset used in this notebook, it comes from a public challenge organized by the company Analytics Vidhya. It contains details about customers details such as Gender, Marital Status, Education, Number of Dependents, Income, Loan Amount, Credit History and others as well as the related loan status.\n",
        "\n",
        "Given these customer information, the purpose of the binary classification model is to predict the loan status : yes or no. In this notebook, we are going to apply a logistic regression model as a binary classifier.\n"
      ]
    },
    {
      "cell_type": "markdown",
      "metadata": {
        "id": "eoEt7XOnBBla"
      },
      "source": [
        "# 2. Setup & Data analysis"
      ]
    },
    {
      "cell_type": "markdown",
      "metadata": {
        "id": "Bnt9LnzWIb9k"
      },
      "source": [
        "## 2.1 Install additional libraries"
      ]
    },
    {
      "cell_type": "code",
      "metadata": {
        "id": "OW7j35PetqW2",
        "colab": {
          "base_uri": "https://localhost:8080/"
        },
        "outputId": "6507dddb-532e-46ee-c1aa-693baa5a2bf6"
      },
      "source": [
        "# If you use Google Colab, run this cell\n",
        "!pip install aif360\n",
        "!pip install BlackBoxAuditing \n",
        "!pip install fairlearn"
      ],
      "execution_count": null,
      "outputs": [
        {
          "output_type": "stream",
          "text": [
            "Collecting aif360\n",
            "\u001b[?25l  Downloading https://files.pythonhosted.org/packages/4c/71/0e19eaf2c513b2328b2b6188770bf1692437380c6e7a1eec3320354e4c87/aif360-0.4.0-py3-none-any.whl (175kB)\n",
            "\r\u001b[K     |█▉                              | 10kB 14.1MB/s eta 0:00:01\r\u001b[K     |███▊                            | 20kB 19.7MB/s eta 0:00:01\r\u001b[K     |█████▋                          | 30kB 23.5MB/s eta 0:00:01\r\u001b[K     |███████▌                        | 40kB 26.2MB/s eta 0:00:01\r\u001b[K     |█████████▍                      | 51kB 27.6MB/s eta 0:00:01\r\u001b[K     |███████████▎                    | 61kB 29.6MB/s eta 0:00:01\r\u001b[K     |█████████████                   | 71kB 30.4MB/s eta 0:00:01\r\u001b[K     |███████████████                 | 81kB 28.0MB/s eta 0:00:01\r\u001b[K     |████████████████▉               | 92kB 27.8MB/s eta 0:00:01\r\u001b[K     |██████████████████▊             | 102kB 28.3MB/s eta 0:00:01\r\u001b[K     |████████████████████▋           | 112kB 28.3MB/s eta 0:00:01\r\u001b[K     |██████████████████████▌         | 122kB 28.3MB/s eta 0:00:01\r\u001b[K     |████████████████████████▎       | 133kB 28.3MB/s eta 0:00:01\r\u001b[K     |██████████████████████████▏     | 143kB 28.3MB/s eta 0:00:01\r\u001b[K     |████████████████████████████    | 153kB 28.3MB/s eta 0:00:01\r\u001b[K     |██████████████████████████████  | 163kB 28.3MB/s eta 0:00:01\r\u001b[K     |███████████████████████████████▉| 174kB 28.3MB/s eta 0:00:01\r\u001b[K     |████████████████████████████████| 184kB 28.3MB/s \n",
            "\u001b[?25hRequirement already satisfied: scikit-learn>=0.22.1 in /usr/local/lib/python3.7/dist-packages (from aif360) (0.22.2.post1)\n",
            "Collecting tempeh\n",
            "  Downloading https://files.pythonhosted.org/packages/b7/1b/d016f8d2ac250b7df50ffb630c3f71371d35ac92deb80653b0e4d2f9c1a9/tempeh-0.1.12-py3-none-any.whl\n",
            "Requirement already satisfied: pandas>=0.24.0 in /usr/local/lib/python3.7/dist-packages (from aif360) (1.1.5)\n",
            "Requirement already satisfied: matplotlib in /usr/local/lib/python3.7/dist-packages (from aif360) (3.2.2)\n",
            "Requirement already satisfied: numpy>=1.16 in /usr/local/lib/python3.7/dist-packages (from aif360) (1.19.5)\n",
            "Requirement already satisfied: scipy<1.6.0,>=1.2.0 in /usr/local/lib/python3.7/dist-packages (from aif360) (1.4.1)\n",
            "Requirement already satisfied: joblib>=0.11 in /usr/local/lib/python3.7/dist-packages (from scikit-learn>=0.22.1->aif360) (1.0.1)\n",
            "Collecting memory-profiler\n",
            "  Downloading https://files.pythonhosted.org/packages/8f/fd/d92b3295657f8837e0177e7b48b32d6651436f0293af42b76d134c3bb489/memory_profiler-0.58.0.tar.gz\n",
            "Requirement already satisfied: requests in /usr/local/lib/python3.7/dist-packages (from tempeh->aif360) (2.23.0)\n",
            "Requirement already satisfied: pytest in /usr/local/lib/python3.7/dist-packages (from tempeh->aif360) (3.6.4)\n",
            "Collecting shap\n",
            "\u001b[?25l  Downloading https://files.pythonhosted.org/packages/b9/f4/c5b95cddae15be80f8e58b25edceca105aa83c0b8c86a1edad24a6af80d3/shap-0.39.0.tar.gz (356kB)\n",
            "\u001b[K     |████████████████████████████████| 358kB 37.7MB/s \n",
            "\u001b[?25hRequirement already satisfied: pytz>=2017.2 in /usr/local/lib/python3.7/dist-packages (from pandas>=0.24.0->aif360) (2018.9)\n",
            "Requirement already satisfied: python-dateutil>=2.7.3 in /usr/local/lib/python3.7/dist-packages (from pandas>=0.24.0->aif360) (2.8.1)\n",
            "Requirement already satisfied: kiwisolver>=1.0.1 in /usr/local/lib/python3.7/dist-packages (from matplotlib->aif360) (1.3.1)\n",
            "Requirement already satisfied: pyparsing!=2.0.4,!=2.1.2,!=2.1.6,>=2.0.1 in /usr/local/lib/python3.7/dist-packages (from matplotlib->aif360) (2.4.7)\n",
            "Requirement already satisfied: cycler>=0.10 in /usr/local/lib/python3.7/dist-packages (from matplotlib->aif360) (0.10.0)\n",
            "Requirement already satisfied: psutil in /usr/local/lib/python3.7/dist-packages (from memory-profiler->tempeh->aif360) (5.4.8)\n",
            "Requirement already satisfied: certifi>=2017.4.17 in /usr/local/lib/python3.7/dist-packages (from requests->tempeh->aif360) (2020.12.5)\n",
            "Requirement already satisfied: chardet<4,>=3.0.2 in /usr/local/lib/python3.7/dist-packages (from requests->tempeh->aif360) (3.0.4)\n",
            "Requirement already satisfied: urllib3!=1.25.0,!=1.25.1,<1.26,>=1.21.1 in /usr/local/lib/python3.7/dist-packages (from requests->tempeh->aif360) (1.24.3)\n",
            "Requirement already satisfied: idna<3,>=2.5 in /usr/local/lib/python3.7/dist-packages (from requests->tempeh->aif360) (2.10)\n",
            "Requirement already satisfied: attrs>=17.4.0 in /usr/local/lib/python3.7/dist-packages (from pytest->tempeh->aif360) (20.3.0)\n",
            "Requirement already satisfied: py>=1.5.0 in /usr/local/lib/python3.7/dist-packages (from pytest->tempeh->aif360) (1.10.0)\n",
            "Requirement already satisfied: pluggy<0.8,>=0.5 in /usr/local/lib/python3.7/dist-packages (from pytest->tempeh->aif360) (0.7.1)\n",
            "Requirement already satisfied: setuptools in /usr/local/lib/python3.7/dist-packages (from pytest->tempeh->aif360) (56.0.0)\n",
            "Requirement already satisfied: atomicwrites>=1.0 in /usr/local/lib/python3.7/dist-packages (from pytest->tempeh->aif360) (1.4.0)\n",
            "Requirement already satisfied: six>=1.10.0 in /usr/local/lib/python3.7/dist-packages (from pytest->tempeh->aif360) (1.15.0)\n",
            "Requirement already satisfied: more-itertools>=4.0.0 in /usr/local/lib/python3.7/dist-packages (from pytest->tempeh->aif360) (8.7.0)\n",
            "Requirement already satisfied: tqdm>4.25.0 in /usr/local/lib/python3.7/dist-packages (from shap->tempeh->aif360) (4.41.1)\n",
            "Collecting slicer==0.0.7\n",
            "  Downloading https://files.pythonhosted.org/packages/78/c2/b3f55dfdb8af9812fdb9baf70cacf3b9e82e505b2bd4324d588888b81202/slicer-0.0.7-py3-none-any.whl\n",
            "Requirement already satisfied: numba in /usr/local/lib/python3.7/dist-packages (from shap->tempeh->aif360) (0.51.2)\n",
            "Requirement already satisfied: cloudpickle in /usr/local/lib/python3.7/dist-packages (from shap->tempeh->aif360) (1.3.0)\n",
            "Requirement already satisfied: llvmlite<0.35,>=0.34.0.dev0 in /usr/local/lib/python3.7/dist-packages (from numba->shap->tempeh->aif360) (0.34.0)\n",
            "Building wheels for collected packages: memory-profiler, shap\n",
            "  Building wheel for memory-profiler (setup.py) ... \u001b[?25l\u001b[?25hdone\n",
            "  Created wheel for memory-profiler: filename=memory_profiler-0.58.0-cp37-none-any.whl size=30180 sha256=8351c30dbf80635778ad087b28c8522f506eca34cfe2a27bc79d60ea1eb525a6\n",
            "  Stored in directory: /root/.cache/pip/wheels/02/e4/0b/aaab481fc5dd2a4ea59e78bc7231bb6aae7635ca7ee79f8ae5\n",
            "  Building wheel for shap (setup.py) ... \u001b[?25l\u001b[?25hdone\n",
            "  Created wheel for shap: filename=shap-0.39.0-cp37-cp37m-linux_x86_64.whl size=491617 sha256=d917698b6810c0d0e43eb0c34066a30ea85035c30e33ab1029d79a578db8da5a\n",
            "  Stored in directory: /root/.cache/pip/wheels/15/27/f5/a8ab9da52fd159aae6477b5ede6eaaec69fd130fa0fa59f283\n",
            "Successfully built memory-profiler shap\n",
            "Installing collected packages: memory-profiler, slicer, shap, tempeh, aif360\n",
            "Successfully installed aif360-0.4.0 memory-profiler-0.58.0 shap-0.39.0 slicer-0.0.7 tempeh-0.1.12\n",
            "Collecting BlackBoxAuditing\n",
            "\u001b[?25l  Downloading https://files.pythonhosted.org/packages/d8/2e/e2e7166bc78eb599b602ca79ace1ceba2ef83b69a0b708c9a7eb729347bf/BlackBoxAuditing-0.1.54.tar.gz (2.6MB)\n",
            "\u001b[K     |████████████████████████████████| 2.6MB 17.9MB/s \n",
            "\u001b[?25hRequirement already satisfied: networkx in /usr/local/lib/python3.7/dist-packages (from BlackBoxAuditing) (2.5.1)\n",
            "Requirement already satisfied: matplotlib in /usr/local/lib/python3.7/dist-packages (from BlackBoxAuditing) (3.2.2)\n",
            "Requirement already satisfied: pandas in /usr/local/lib/python3.7/dist-packages (from BlackBoxAuditing) (1.1.5)\n",
            "Requirement already satisfied: numpy in /usr/local/lib/python3.7/dist-packages (from BlackBoxAuditing) (1.19.5)\n",
            "Requirement already satisfied: decorator<5,>=4.3 in /usr/local/lib/python3.7/dist-packages (from networkx->BlackBoxAuditing) (4.4.2)\n",
            "Requirement already satisfied: pyparsing!=2.0.4,!=2.1.2,!=2.1.6,>=2.0.1 in /usr/local/lib/python3.7/dist-packages (from matplotlib->BlackBoxAuditing) (2.4.7)\n",
            "Requirement already satisfied: cycler>=0.10 in /usr/local/lib/python3.7/dist-packages (from matplotlib->BlackBoxAuditing) (0.10.0)\n",
            "Requirement already satisfied: kiwisolver>=1.0.1 in /usr/local/lib/python3.7/dist-packages (from matplotlib->BlackBoxAuditing) (1.3.1)\n",
            "Requirement already satisfied: python-dateutil>=2.1 in /usr/local/lib/python3.7/dist-packages (from matplotlib->BlackBoxAuditing) (2.8.1)\n",
            "Requirement already satisfied: pytz>=2017.2 in /usr/local/lib/python3.7/dist-packages (from pandas->BlackBoxAuditing) (2018.9)\n",
            "Requirement already satisfied: six in /usr/local/lib/python3.7/dist-packages (from cycler>=0.10->matplotlib->BlackBoxAuditing) (1.15.0)\n",
            "Building wheels for collected packages: BlackBoxAuditing\n",
            "  Building wheel for BlackBoxAuditing (setup.py) ... \u001b[?25l\u001b[?25hdone\n",
            "  Created wheel for BlackBoxAuditing: filename=BlackBoxAuditing-0.1.54-py2.py3-none-any.whl size=1394769 sha256=5363e2a6ac7d84ace6ddf9502e96fe46dbaaa950ba1ef3eec25c614a218c772e\n",
            "  Stored in directory: /root/.cache/pip/wheels/66/82/7b/ac2a79b8caf97e15ed415162a7f272cbba1e2e2c851fa76ae3\n",
            "Successfully built BlackBoxAuditing\n",
            "Installing collected packages: BlackBoxAuditing\n",
            "Successfully installed BlackBoxAuditing-0.1.54\n",
            "Collecting fairlearn\n",
            "\u001b[?25l  Downloading https://files.pythonhosted.org/packages/e7/03/6b4e8d1d1400eb2febeb49959720239cbebc94fa1578e03769941216e400/fairlearn-0.6.1-py3-none-any.whl (24.6MB)\n",
            "\u001b[K     |████████████████████████████████| 24.6MB 1.2MB/s \n",
            "\u001b[?25hRequirement already satisfied: numpy>=1.17.2 in /usr/local/lib/python3.7/dist-packages (from fairlearn) (1.19.5)\n",
            "Requirement already satisfied: scipy>=1.4.1 in /usr/local/lib/python3.7/dist-packages (from fairlearn) (1.4.1)\n",
            "Requirement already satisfied: pandas>=0.25.1 in /usr/local/lib/python3.7/dist-packages (from fairlearn) (1.1.5)\n",
            "Requirement already satisfied: scikit-learn>=0.22.1 in /usr/local/lib/python3.7/dist-packages (from fairlearn) (0.22.2.post1)\n",
            "Requirement already satisfied: pytz>=2017.2 in /usr/local/lib/python3.7/dist-packages (from pandas>=0.25.1->fairlearn) (2018.9)\n",
            "Requirement already satisfied: python-dateutil>=2.7.3 in /usr/local/lib/python3.7/dist-packages (from pandas>=0.25.1->fairlearn) (2.8.1)\n",
            "Requirement already satisfied: joblib>=0.11 in /usr/local/lib/python3.7/dist-packages (from scikit-learn>=0.22.1->fairlearn) (1.0.1)\n",
            "Requirement already satisfied: six>=1.5 in /usr/local/lib/python3.7/dist-packages (from python-dateutil>=2.7.3->pandas>=0.25.1->fairlearn) (1.15.0)\n",
            "Installing collected packages: fairlearn\n",
            "Successfully installed fairlearn-0.6.1\n"
          ],
          "name": "stdout"
        }
      ]
    },
    {
      "cell_type": "markdown",
      "metadata": {
        "id": "ab2NjVlCcN3i"
      },
      "source": [
        "## 2.2 Import installed libraries"
      ]
    },
    {
      "cell_type": "code",
      "metadata": {
        "id": "XAafTE6N565u"
      },
      "source": [
        "import numpy as np\n",
        "import matplotlib.pyplot as plt\n",
        "import seaborn as sns\n",
        "import pandas as pd\n",
        "import warnings\n",
        "from sklearn.preprocessing import MinMaxScaler\n",
        "from sklearn.metrics import mean_squared_error\n",
        "from sklearn.model_selection import train_test_split\n",
        "from sklearn.linear_model import LogisticRegression\n",
        "from sklearn.preprocessing import StandardScaler\n",
        "import math\n",
        "from sklearn import metrics\n",
        "from aif360.algorithms.preprocessing import DisparateImpactRemover\n",
        "from aif360.datasets import BinaryLabelDataset\n",
        "\n",
        "# To display plots\n",
        "%matplotlib inline\n",
        "\n",
        "warnings.filterwarnings('ignore')\n",
        "sns.set(rc={'figure.figsize':(20, 7)})"
      ],
      "execution_count": null,
      "outputs": []
    },
    {
      "cell_type": "markdown",
      "metadata": {
        "id": "hrgbMSwD0vfn"
      },
      "source": [
        "Run this cell if you are using Google Colab"
      ]
    },
    {
      "cell_type": "code",
      "metadata": {
        "id": "JETQAkT4-jci"
      },
      "source": [
        "#Google colab setup\n",
        "from pydrive.auth import GoogleAuth\n",
        "from pydrive.drive import GoogleDrive\n",
        "from google.colab import auth\n",
        "from oauth2client.client import GoogleCredentials\n",
        "\n",
        "# Authenticate and create the PyDrive client\n",
        "auth.authenticate_user()\n",
        "gauth = GoogleAuth()\n",
        "gauth.credentials = GoogleCredentials.get_application_default()\n",
        "drive = GoogleDrive(gauth)\n",
        "# Load dataset from google drive\n",
        "id = '1SfMMKeLaZ1Neyq0Y4qU662kczWelWxUK'\n",
        "downloaded = drive.CreateFile({'id':id}) \n",
        "downloaded.GetContentFile('loan_applicants') "
      ],
      "execution_count": null,
      "outputs": []
    },
    {
      "cell_type": "markdown",
      "metadata": {
        "id": "X6yt3VLABNdc"
      },
      "source": [
        "## 2.3 Download & read data\n",
        "\n",
        "\n"
      ]
    },
    {
      "cell_type": "code",
      "metadata": {
        "id": "Ll7sPQR8DJFV",
        "colab": {
          "base_uri": "https://localhost:8080/",
          "height": 168
        },
        "outputId": "11f69bd4-4ed5-4797-986b-c91302e7ef98"
      },
      "source": [
        "loan_data = pd.read_csv(\"loan_applicants\")\n",
        "loan_data.head(4)"
      ],
      "execution_count": null,
      "outputs": [
        {
          "output_type": "execute_result",
          "data": {
            "text/html": [
              "<div>\n",
              "<style scoped>\n",
              "    .dataframe tbody tr th:only-of-type {\n",
              "        vertical-align: middle;\n",
              "    }\n",
              "\n",
              "    .dataframe tbody tr th {\n",
              "        vertical-align: top;\n",
              "    }\n",
              "\n",
              "    .dataframe thead th {\n",
              "        text-align: right;\n",
              "    }\n",
              "</style>\n",
              "<table border=\"1\" class=\"dataframe\">\n",
              "  <thead>\n",
              "    <tr style=\"text-align: right;\">\n",
              "      <th></th>\n",
              "      <th>Loan_ID</th>\n",
              "      <th>Gender</th>\n",
              "      <th>Married</th>\n",
              "      <th>Dependents</th>\n",
              "      <th>Education</th>\n",
              "      <th>Self_Employed</th>\n",
              "      <th>ApplicantIncome</th>\n",
              "      <th>CoapplicantIncome</th>\n",
              "      <th>LoanAmount</th>\n",
              "      <th>Loan_Amount_Term</th>\n",
              "      <th>Credit_History</th>\n",
              "      <th>Property_Area</th>\n",
              "      <th>Loan_Status</th>\n",
              "    </tr>\n",
              "  </thead>\n",
              "  <tbody>\n",
              "    <tr>\n",
              "      <th>0</th>\n",
              "      <td>LP001002</td>\n",
              "      <td>Male</td>\n",
              "      <td>No</td>\n",
              "      <td>0</td>\n",
              "      <td>Graduate</td>\n",
              "      <td>No</td>\n",
              "      <td>5849</td>\n",
              "      <td>0.0</td>\n",
              "      <td>NaN</td>\n",
              "      <td>360.0</td>\n",
              "      <td>1.0</td>\n",
              "      <td>Urban</td>\n",
              "      <td>Y</td>\n",
              "    </tr>\n",
              "    <tr>\n",
              "      <th>1</th>\n",
              "      <td>LP001003</td>\n",
              "      <td>Male</td>\n",
              "      <td>Yes</td>\n",
              "      <td>1</td>\n",
              "      <td>Graduate</td>\n",
              "      <td>No</td>\n",
              "      <td>4583</td>\n",
              "      <td>1508.0</td>\n",
              "      <td>128.0</td>\n",
              "      <td>360.0</td>\n",
              "      <td>1.0</td>\n",
              "      <td>Rural</td>\n",
              "      <td>N</td>\n",
              "    </tr>\n",
              "    <tr>\n",
              "      <th>2</th>\n",
              "      <td>LP001005</td>\n",
              "      <td>Male</td>\n",
              "      <td>Yes</td>\n",
              "      <td>0</td>\n",
              "      <td>Graduate</td>\n",
              "      <td>Yes</td>\n",
              "      <td>3000</td>\n",
              "      <td>0.0</td>\n",
              "      <td>66.0</td>\n",
              "      <td>360.0</td>\n",
              "      <td>1.0</td>\n",
              "      <td>Urban</td>\n",
              "      <td>Y</td>\n",
              "    </tr>\n",
              "    <tr>\n",
              "      <th>3</th>\n",
              "      <td>LP001006</td>\n",
              "      <td>Male</td>\n",
              "      <td>Yes</td>\n",
              "      <td>0</td>\n",
              "      <td>Not Graduate</td>\n",
              "      <td>No</td>\n",
              "      <td>2583</td>\n",
              "      <td>2358.0</td>\n",
              "      <td>120.0</td>\n",
              "      <td>360.0</td>\n",
              "      <td>1.0</td>\n",
              "      <td>Urban</td>\n",
              "      <td>Y</td>\n",
              "    </tr>\n",
              "  </tbody>\n",
              "</table>\n",
              "</div>"
            ],
            "text/plain": [
              "    Loan_ID Gender Married  ... Credit_History Property_Area Loan_Status\n",
              "0  LP001002   Male      No  ...            1.0         Urban           Y\n",
              "1  LP001003   Male     Yes  ...            1.0         Rural           N\n",
              "2  LP001005   Male     Yes  ...            1.0         Urban           Y\n",
              "3  LP001006   Male     Yes  ...            1.0         Urban           Y\n",
              "\n",
              "[4 rows x 13 columns]"
            ]
          },
          "metadata": {
            "tags": []
          },
          "execution_count": 4
        }
      ]
    },
    {
      "cell_type": "markdown",
      "metadata": {
        "id": "6U3sKyOGUhNn"
      },
      "source": [
        "## 2.4 Preprocessing and data analysis"
      ]
    },
    {
      "cell_type": "markdown",
      "metadata": {
        "id": "YmcYFonX5h-Z"
      },
      "source": [
        "**Remove missing values**"
      ]
    },
    {
      "cell_type": "code",
      "metadata": {
        "id": "dT-pWJzQVkgJ",
        "colab": {
          "base_uri": "https://localhost:8080/"
        },
        "outputId": "deaf5431-c4e3-4fce-9280-5a588beb3140"
      },
      "source": [
        "loan_data.isnull().sum()"
      ],
      "execution_count": null,
      "outputs": [
        {
          "output_type": "execute_result",
          "data": {
            "text/plain": [
              "Loan_ID               0\n",
              "Gender               24\n",
              "Married               3\n",
              "Dependents           25\n",
              "Education             0\n",
              "Self_Employed        55\n",
              "ApplicantIncome       0\n",
              "CoapplicantIncome     0\n",
              "LoanAmount           27\n",
              "Loan_Amount_Term     20\n",
              "Credit_History       79\n",
              "Property_Area         0\n",
              "Loan_Status           0\n",
              "dtype: int64"
            ]
          },
          "metadata": {
            "tags": []
          },
          "execution_count": 5
        }
      ]
    },
    {
      "cell_type": "markdown",
      "metadata": {
        "id": "UDGER9stVqG_"
      },
      "source": [
        "There are null values in the dataframe. Let's delete them. We also won't need the loan ID column for our analysis."
      ]
    },
    {
      "cell_type": "code",
      "metadata": {
        "id": "gmOmMlO-TuFn"
      },
      "source": [
        "#Delete rows with NaN values\n",
        "loan_data = loan_data.dropna()\n",
        "loan_data = loan_data.reset_index(drop=True)\n",
        "del loan_data['Loan_ID']"
      ],
      "execution_count": null,
      "outputs": []
    },
    {
      "cell_type": "code",
      "metadata": {
        "id": "u8XGQK1zU7pK",
        "colab": {
          "base_uri": "https://localhost:8080/",
          "height": 409
        },
        "outputId": "815d5e49-1ec0-4384-c0ac-8c3bcdd424f7"
      },
      "source": [
        "loan_data"
      ],
      "execution_count": null,
      "outputs": [
        {
          "output_type": "execute_result",
          "data": {
            "text/html": [
              "<div>\n",
              "<style scoped>\n",
              "    .dataframe tbody tr th:only-of-type {\n",
              "        vertical-align: middle;\n",
              "    }\n",
              "\n",
              "    .dataframe tbody tr th {\n",
              "        vertical-align: top;\n",
              "    }\n",
              "\n",
              "    .dataframe thead th {\n",
              "        text-align: right;\n",
              "    }\n",
              "</style>\n",
              "<table border=\"1\" class=\"dataframe\">\n",
              "  <thead>\n",
              "    <tr style=\"text-align: right;\">\n",
              "      <th></th>\n",
              "      <th>Gender</th>\n",
              "      <th>Married</th>\n",
              "      <th>Dependents</th>\n",
              "      <th>Education</th>\n",
              "      <th>Self_Employed</th>\n",
              "      <th>ApplicantIncome</th>\n",
              "      <th>CoapplicantIncome</th>\n",
              "      <th>LoanAmount</th>\n",
              "      <th>Loan_Amount_Term</th>\n",
              "      <th>Credit_History</th>\n",
              "      <th>Property_Area</th>\n",
              "      <th>Loan_Status</th>\n",
              "    </tr>\n",
              "  </thead>\n",
              "  <tbody>\n",
              "    <tr>\n",
              "      <th>0</th>\n",
              "      <td>Male</td>\n",
              "      <td>Yes</td>\n",
              "      <td>1</td>\n",
              "      <td>Graduate</td>\n",
              "      <td>No</td>\n",
              "      <td>4583</td>\n",
              "      <td>1508.0</td>\n",
              "      <td>128.0</td>\n",
              "      <td>360.0</td>\n",
              "      <td>1.0</td>\n",
              "      <td>Rural</td>\n",
              "      <td>N</td>\n",
              "    </tr>\n",
              "    <tr>\n",
              "      <th>1</th>\n",
              "      <td>Male</td>\n",
              "      <td>Yes</td>\n",
              "      <td>0</td>\n",
              "      <td>Graduate</td>\n",
              "      <td>Yes</td>\n",
              "      <td>3000</td>\n",
              "      <td>0.0</td>\n",
              "      <td>66.0</td>\n",
              "      <td>360.0</td>\n",
              "      <td>1.0</td>\n",
              "      <td>Urban</td>\n",
              "      <td>Y</td>\n",
              "    </tr>\n",
              "    <tr>\n",
              "      <th>2</th>\n",
              "      <td>Male</td>\n",
              "      <td>Yes</td>\n",
              "      <td>0</td>\n",
              "      <td>Not Graduate</td>\n",
              "      <td>No</td>\n",
              "      <td>2583</td>\n",
              "      <td>2358.0</td>\n",
              "      <td>120.0</td>\n",
              "      <td>360.0</td>\n",
              "      <td>1.0</td>\n",
              "      <td>Urban</td>\n",
              "      <td>Y</td>\n",
              "    </tr>\n",
              "    <tr>\n",
              "      <th>3</th>\n",
              "      <td>Male</td>\n",
              "      <td>No</td>\n",
              "      <td>0</td>\n",
              "      <td>Graduate</td>\n",
              "      <td>No</td>\n",
              "      <td>6000</td>\n",
              "      <td>0.0</td>\n",
              "      <td>141.0</td>\n",
              "      <td>360.0</td>\n",
              "      <td>1.0</td>\n",
              "      <td>Urban</td>\n",
              "      <td>Y</td>\n",
              "    </tr>\n",
              "    <tr>\n",
              "      <th>4</th>\n",
              "      <td>Male</td>\n",
              "      <td>Yes</td>\n",
              "      <td>2</td>\n",
              "      <td>Graduate</td>\n",
              "      <td>Yes</td>\n",
              "      <td>5417</td>\n",
              "      <td>4196.0</td>\n",
              "      <td>267.0</td>\n",
              "      <td>360.0</td>\n",
              "      <td>1.0</td>\n",
              "      <td>Urban</td>\n",
              "      <td>Y</td>\n",
              "    </tr>\n",
              "    <tr>\n",
              "      <th>...</th>\n",
              "      <td>...</td>\n",
              "      <td>...</td>\n",
              "      <td>...</td>\n",
              "      <td>...</td>\n",
              "      <td>...</td>\n",
              "      <td>...</td>\n",
              "      <td>...</td>\n",
              "      <td>...</td>\n",
              "      <td>...</td>\n",
              "      <td>...</td>\n",
              "      <td>...</td>\n",
              "      <td>...</td>\n",
              "    </tr>\n",
              "    <tr>\n",
              "      <th>764</th>\n",
              "      <td>Male</td>\n",
              "      <td>Yes</td>\n",
              "      <td>1</td>\n",
              "      <td>Graduate</td>\n",
              "      <td>No</td>\n",
              "      <td>2269</td>\n",
              "      <td>2167.0</td>\n",
              "      <td>99.0</td>\n",
              "      <td>360.0</td>\n",
              "      <td>1.0</td>\n",
              "      <td>Semiurban</td>\n",
              "      <td>Y</td>\n",
              "    </tr>\n",
              "    <tr>\n",
              "      <th>765</th>\n",
              "      <td>Male</td>\n",
              "      <td>Yes</td>\n",
              "      <td>3+</td>\n",
              "      <td>Not Graduate</td>\n",
              "      <td>Yes</td>\n",
              "      <td>4009</td>\n",
              "      <td>1777.0</td>\n",
              "      <td>113.0</td>\n",
              "      <td>360.0</td>\n",
              "      <td>1.0</td>\n",
              "      <td>Urban</td>\n",
              "      <td>Y</td>\n",
              "    </tr>\n",
              "    <tr>\n",
              "      <th>766</th>\n",
              "      <td>Male</td>\n",
              "      <td>Yes</td>\n",
              "      <td>0</td>\n",
              "      <td>Graduate</td>\n",
              "      <td>No</td>\n",
              "      <td>4158</td>\n",
              "      <td>709.0</td>\n",
              "      <td>115.0</td>\n",
              "      <td>360.0</td>\n",
              "      <td>1.0</td>\n",
              "      <td>Urban</td>\n",
              "      <td>Y</td>\n",
              "    </tr>\n",
              "    <tr>\n",
              "      <th>767</th>\n",
              "      <td>Male</td>\n",
              "      <td>Yes</td>\n",
              "      <td>0</td>\n",
              "      <td>Graduate</td>\n",
              "      <td>No</td>\n",
              "      <td>5000</td>\n",
              "      <td>2393.0</td>\n",
              "      <td>158.0</td>\n",
              "      <td>360.0</td>\n",
              "      <td>1.0</td>\n",
              "      <td>Rural</td>\n",
              "      <td>N</td>\n",
              "    </tr>\n",
              "    <tr>\n",
              "      <th>768</th>\n",
              "      <td>Male</td>\n",
              "      <td>No</td>\n",
              "      <td>0</td>\n",
              "      <td>Graduate</td>\n",
              "      <td>Yes</td>\n",
              "      <td>9200</td>\n",
              "      <td>0.0</td>\n",
              "      <td>98.0</td>\n",
              "      <td>180.0</td>\n",
              "      <td>1.0</td>\n",
              "      <td>Rural</td>\n",
              "      <td>Y</td>\n",
              "    </tr>\n",
              "  </tbody>\n",
              "</table>\n",
              "<p>769 rows × 12 columns</p>\n",
              "</div>"
            ],
            "text/plain": [
              "    Gender Married Dependents  ... Credit_History Property_Area  Loan_Status\n",
              "0     Male     Yes          1  ...            1.0         Rural            N\n",
              "1     Male     Yes          0  ...            1.0         Urban            Y\n",
              "2     Male     Yes          0  ...            1.0         Urban            Y\n",
              "3     Male      No          0  ...            1.0         Urban            Y\n",
              "4     Male     Yes          2  ...            1.0         Urban            Y\n",
              "..     ...     ...        ...  ...            ...           ...          ...\n",
              "764   Male     Yes          1  ...            1.0     Semiurban            Y\n",
              "765   Male     Yes         3+  ...            1.0         Urban            Y\n",
              "766   Male     Yes          0  ...            1.0         Urban            Y\n",
              "767   Male     Yes          0  ...            1.0         Rural            N\n",
              "768   Male      No          0  ...            1.0         Rural            Y\n",
              "\n",
              "[769 rows x 12 columns]"
            ]
          },
          "metadata": {
            "tags": []
          },
          "execution_count": 7
        }
      ]
    },
    {
      "cell_type": "markdown",
      "metadata": {
        "id": "Fo1YBcRa5h-b"
      },
      "source": [
        "**Data exploration**"
      ]
    },
    {
      "cell_type": "code",
      "metadata": {
        "id": "H51-gr4XaA6c",
        "colab": {
          "base_uri": "https://localhost:8080/",
          "height": 495
        },
        "outputId": "5d225957-e9ba-4790-9824-13c9057ee74a"
      },
      "source": [
        "loan_data.groupby(\"Gender\")['Loan_Status'].agg(['count']).plot.bar()"
      ],
      "execution_count": null,
      "outputs": [
        {
          "output_type": "execute_result",
          "data": {
            "text/plain": [
              "<matplotlib.axes._subplots.AxesSubplot at 0x7fdd0644cd90>"
            ]
          },
          "metadata": {
            "tags": []
          },
          "execution_count": 8
        },
        {
          "output_type": "display_data",
          "data": {
            "image/png": "[encoded data removed]",
            "text/plain": [
              "<Figure size 1440x504 with 1 Axes>"
            ]
          },
          "metadata": {
            "tags": []
          }
        }
      ]
    },
    {
      "cell_type": "markdown",
      "metadata": {
        "id": "yGMiQIlKu-2P"
      },
      "source": [
        "As we can, there are 4x more men than women in the dataset which may imply that more men have their loans accepted. Let us verify it."
      ]
    },
    {
      "cell_type": "code",
      "metadata": {
        "id": "UK2bgz8551Q2",
        "colab": {
          "base_uri": "https://localhost:8080/"
        },
        "outputId": "df72170b-1de6-4ad6-8732-c0cce3b4ed6e"
      },
      "source": [
        "male_accepted_loans = loan_data[(loan_data.Gender==\"Male\") \\\n",
        "                                & (loan_data.Loan_Status==\"Y\")]\n",
        "female_accepted_loans = loan_data[(loan_data.Gender==\"Female\") \\\n",
        "                                  & (loan_data.Loan_Status==\"Y\")]\n",
        "\n",
        "print('There are {} men with accepted loans'.format(len(male_accepted_loans)))\n",
        "print('Only {} women have their loans accepted'.format(len(female_accepted_loans)))"
      ],
      "execution_count": null,
      "outputs": [
        {
          "output_type": "stream",
          "text": [
            "There are 462 men with accepted loans\n",
            "Only 99 women have their loans accepted\n"
          ],
          "name": "stdout"
        }
      ]
    },
    {
      "cell_type": "markdown",
      "metadata": {
        "id": "d_UBUkBdCHwo"
      },
      "source": [
        "If we train a machine learning model, it will tend to discriminate against women since not only the dataset have more men than women but the latter have 4 time less loans acceptance. "
      ]
    },
    {
      "cell_type": "markdown",
      "metadata": {
        "id": "89tQ92Ws8U2I"
      },
      "source": [
        "Total Number of loans status"
      ]
    },
    {
      "cell_type": "code",
      "metadata": {
        "id": "YqdTDV3Uuzn5",
        "colab": {
          "base_uri": "https://localhost:8080/",
          "height": 463
        },
        "outputId": "57f956fe-003f-430b-8b7f-d04789fe8ebb"
      },
      "source": [
        "loan_data.groupby(\"Loan_Status\")['Gender'].count().plot.bar()"
      ],
      "execution_count": null,
      "outputs": [
        {
          "output_type": "execute_result",
          "data": {
            "text/plain": [
              "<matplotlib.axes._subplots.AxesSubplot at 0x7fdd063405d0>"
            ]
          },
          "metadata": {
            "tags": []
          },
          "execution_count": 10
        },
        {
          "output_type": "display_data",
          "data": {
            "image/png": "[encoded data removed]",
            "text/plain": [
              "<Figure size 1440x504 with 1 Axes>"
            ]
          },
          "metadata": {
            "tags": []
          }
        }
      ]
    },
    {
      "cell_type": "markdown",
      "metadata": {
        "id": "L45jaS_rKRZZ"
      },
      "source": [
        "**Data encoding : Converting categorical data to numeric**"
      ]
    },
    {
      "cell_type": "markdown",
      "metadata": {
        "id": "WDfK2eSNLlWC"
      },
      "source": [
        "We will use pandas get_dummies function to convert categorical variables to numeric ones since we can't feed most of machine learning models with text data.\n",
        "\n",
        "The categorical variables are : 'Married', 'Education', 'Dependents', 'Self_Emplyed', 'Property_Area'.\n",
        "\n",
        "They are converted using label encoding technique which simply replaces the categorical values of a variable with a numeric value between 0 and the number of categories minus 1.\n",
        "\n"
      ]
    },
    {
      "cell_type": "markdown",
      "metadata": {
        "id": "IU3irWoM5Mql"
      },
      "source": [
        "**Function** to convert categorical variables to numeric variables"
      ]
    },
    {
      "cell_type": "code",
      "metadata": {
        "id": "C8i1DmPX08ks"
      },
      "source": [
        "def categorical_numeric(col_list, dataframe):\n",
        "    '''\n",
        "    Input:\n",
        "        col_list: list of categorical variables\n",
        "        dataframe : original dataframe\n",
        "    Output:\n",
        "        df: dataframe with transformed categorical variables\n",
        "    '''\n",
        "    df_cat_to_numeric = pd.get_dummies(dataframe[col_list])\n",
        "    return df_cat_to_numeric"
      ],
      "execution_count": null,
      "outputs": []
    },
    {
      "cell_type": "code",
      "metadata": {
        "id": "XmfXTo6gKXr3",
        "colab": {
          "base_uri": "https://localhost:8080/",
          "height": 198
        },
        "outputId": "51d51e10-7123-4cd2-b0b3-c01327444fa0"
      },
      "source": [
        "cat_columns = ['Married',  'Education', 'Dependents', 'Self_Employed', 'Property_Area']\n",
        "df_cat_variables = categorical_numeric(cat_columns, loan_data)\n",
        "df_cat_variables.head()"
      ],
      "execution_count": null,
      "outputs": [
        {
          "output_type": "execute_result",
          "data": {
            "text/html": [
              "<div>\n",
              "<style scoped>\n",
              "    .dataframe tbody tr th:only-of-type {\n",
              "        vertical-align: middle;\n",
              "    }\n",
              "\n",
              "    .dataframe tbody tr th {\n",
              "        vertical-align: top;\n",
              "    }\n",
              "\n",
              "    .dataframe thead th {\n",
              "        text-align: right;\n",
              "    }\n",
              "</style>\n",
              "<table border=\"1\" class=\"dataframe\">\n",
              "  <thead>\n",
              "    <tr style=\"text-align: right;\">\n",
              "      <th></th>\n",
              "      <th>Married_No</th>\n",
              "      <th>Married_Yes</th>\n",
              "      <th>Education_Graduate</th>\n",
              "      <th>Education_Not Graduate</th>\n",
              "      <th>Dependents_0</th>\n",
              "      <th>Dependents_1</th>\n",
              "      <th>Dependents_2</th>\n",
              "      <th>Dependents_3+</th>\n",
              "      <th>Self_Employed_No</th>\n",
              "      <th>Self_Employed_Yes</th>\n",
              "      <th>Property_Area_Rural</th>\n",
              "      <th>Property_Area_Semiurban</th>\n",
              "      <th>Property_Area_Urban</th>\n",
              "    </tr>\n",
              "  </thead>\n",
              "  <tbody>\n",
              "    <tr>\n",
              "      <th>0</th>\n",
              "      <td>0</td>\n",
              "      <td>1</td>\n",
              "      <td>1</td>\n",
              "      <td>0</td>\n",
              "      <td>0</td>\n",
              "      <td>1</td>\n",
              "      <td>0</td>\n",
              "      <td>0</td>\n",
              "      <td>1</td>\n",
              "      <td>0</td>\n",
              "      <td>1</td>\n",
              "      <td>0</td>\n",
              "      <td>0</td>\n",
              "    </tr>\n",
              "    <tr>\n",
              "      <th>1</th>\n",
              "      <td>0</td>\n",
              "      <td>1</td>\n",
              "      <td>1</td>\n",
              "      <td>0</td>\n",
              "      <td>1</td>\n",
              "      <td>0</td>\n",
              "      <td>0</td>\n",
              "      <td>0</td>\n",
              "      <td>0</td>\n",
              "      <td>1</td>\n",
              "      <td>0</td>\n",
              "      <td>0</td>\n",
              "      <td>1</td>\n",
              "    </tr>\n",
              "    <tr>\n",
              "      <th>2</th>\n",
              "      <td>0</td>\n",
              "      <td>1</td>\n",
              "      <td>0</td>\n",
              "      <td>1</td>\n",
              "      <td>1</td>\n",
              "      <td>0</td>\n",
              "      <td>0</td>\n",
              "      <td>0</td>\n",
              "      <td>1</td>\n",
              "      <td>0</td>\n",
              "      <td>0</td>\n",
              "      <td>0</td>\n",
              "      <td>1</td>\n",
              "    </tr>\n",
              "    <tr>\n",
              "      <th>3</th>\n",
              "      <td>1</td>\n",
              "      <td>0</td>\n",
              "      <td>1</td>\n",
              "      <td>0</td>\n",
              "      <td>1</td>\n",
              "      <td>0</td>\n",
              "      <td>0</td>\n",
              "      <td>0</td>\n",
              "      <td>1</td>\n",
              "      <td>0</td>\n",
              "      <td>0</td>\n",
              "      <td>0</td>\n",
              "      <td>1</td>\n",
              "    </tr>\n",
              "    <tr>\n",
              "      <th>4</th>\n",
              "      <td>0</td>\n",
              "      <td>1</td>\n",
              "      <td>1</td>\n",
              "      <td>0</td>\n",
              "      <td>0</td>\n",
              "      <td>0</td>\n",
              "      <td>1</td>\n",
              "      <td>0</td>\n",
              "      <td>0</td>\n",
              "      <td>1</td>\n",
              "      <td>0</td>\n",
              "      <td>0</td>\n",
              "      <td>1</td>\n",
              "    </tr>\n",
              "  </tbody>\n",
              "</table>\n",
              "</div>"
            ],
            "text/plain": [
              "   Married_No  Married_Yes  ...  Property_Area_Semiurban  Property_Area_Urban\n",
              "0           0            1  ...                        0                    0\n",
              "1           0            1  ...                        0                    1\n",
              "2           0            1  ...                        0                    1\n",
              "3           1            0  ...                        0                    1\n",
              "4           0            1  ...                        0                    1\n",
              "\n",
              "[5 rows x 13 columns]"
            ]
          },
          "metadata": {
            "tags": []
          },
          "execution_count": 12
        }
      ]
    },
    {
      "cell_type": "markdown",
      "metadata": {
        "id": "ryhR8s8YMV4E"
      },
      "source": [
        "Our target is the loan_status. We also have to convert the column as well as the gender column to numeric columns. A 'Male' Gender and a 'Yes' Loan_Status will be encoded with 1. A 'Female' Gender and a 'No' Loan_Status by 0."
      ]
    },
    {
      "cell_type": "code",
      "metadata": {
        "id": "ZkEsuIe1M2wI"
      },
      "source": [
        "loan_data.loc[loan_data.Gender == 'Male', 'Gender'] = 1\n",
        "loan_data.loc[loan_data.Gender == 'Female', 'Gender'] = 0\n",
        "\n",
        "loan_data.loc[loan_data.Loan_Status == 'Y', 'Loan_Status'] = 1\n",
        "loan_data.loc[loan_data.Loan_Status == 'N', 'Loan_Status'] = 0"
      ],
      "execution_count": null,
      "outputs": []
    },
    {
      "cell_type": "code",
      "metadata": {
        "id": "5qYSt7E_Qhaa",
        "colab": {
          "base_uri": "https://localhost:8080/",
          "height": 138
        },
        "outputId": "e21ffac4-184b-4586-e0a9-629e78c12dea"
      },
      "source": [
        "loan_data = loan_data.drop(columns=cat_columns)\n",
        "loan_data.head(3)"
      ],
      "execution_count": null,
      "outputs": [
        {
          "output_type": "execute_result",
          "data": {
            "text/html": [
              "<div>\n",
              "<style scoped>\n",
              "    .dataframe tbody tr th:only-of-type {\n",
              "        vertical-align: middle;\n",
              "    }\n",
              "\n",
              "    .dataframe tbody tr th {\n",
              "        vertical-align: top;\n",
              "    }\n",
              "\n",
              "    .dataframe thead th {\n",
              "        text-align: right;\n",
              "    }\n",
              "</style>\n",
              "<table border=\"1\" class=\"dataframe\">\n",
              "  <thead>\n",
              "    <tr style=\"text-align: right;\">\n",
              "      <th></th>\n",
              "      <th>Gender</th>\n",
              "      <th>ApplicantIncome</th>\n",
              "      <th>CoapplicantIncome</th>\n",
              "      <th>LoanAmount</th>\n",
              "      <th>Loan_Amount_Term</th>\n",
              "      <th>Credit_History</th>\n",
              "      <th>Loan_Status</th>\n",
              "    </tr>\n",
              "  </thead>\n",
              "  <tbody>\n",
              "    <tr>\n",
              "      <th>0</th>\n",
              "      <td>1</td>\n",
              "      <td>4583</td>\n",
              "      <td>1508.0</td>\n",
              "      <td>128.0</td>\n",
              "      <td>360.0</td>\n",
              "      <td>1.0</td>\n",
              "      <td>0</td>\n",
              "    </tr>\n",
              "    <tr>\n",
              "      <th>1</th>\n",
              "      <td>1</td>\n",
              "      <td>3000</td>\n",
              "      <td>0.0</td>\n",
              "      <td>66.0</td>\n",
              "      <td>360.0</td>\n",
              "      <td>1.0</td>\n",
              "      <td>1</td>\n",
              "    </tr>\n",
              "    <tr>\n",
              "      <th>2</th>\n",
              "      <td>1</td>\n",
              "      <td>2583</td>\n",
              "      <td>2358.0</td>\n",
              "      <td>120.0</td>\n",
              "      <td>360.0</td>\n",
              "      <td>1.0</td>\n",
              "      <td>1</td>\n",
              "    </tr>\n",
              "  </tbody>\n",
              "</table>\n",
              "</div>"
            ],
            "text/plain": [
              "  Gender  ApplicantIncome  ...  Credit_History  Loan_Status\n",
              "0      1             4583  ...             1.0            0\n",
              "1      1             3000  ...             1.0            1\n",
              "2      1             2583  ...             1.0            1\n",
              "\n",
              "[3 rows x 7 columns]"
            ]
          },
          "metadata": {
            "tags": []
          },
          "execution_count": 14
        }
      ]
    },
    {
      "cell_type": "markdown",
      "metadata": {
        "id": "ltF1DPz1Q6wm"
      },
      "source": [
        "Now we can merge the above dataframe with the one we created with the categorical columns"
      ]
    },
    {
      "cell_type": "markdown",
      "metadata": {
        "id": "QJRClXUmGkWP"
      },
      "source": [
        "**Function**: to concatenate two dataframes"
      ]
    },
    {
      "cell_type": "code",
      "metadata": {
        "id": "NXV_JhqC6UYN"
      },
      "source": [
        "def concatenate_dataframe(df1, df2):\n",
        "    \"\"\" \n",
        "    Input:\n",
        "        df1 and df2 : the two dataframes to be concatenated\n",
        "    Ouput:\n",
        "    dataframe which is the concatanation of the inputs\n",
        "    \"\"\"\n",
        "    df_concat = pd.concat([df1,df2], axis=1)\n",
        "    return df_concat"
      ],
      "execution_count": null,
      "outputs": []
    },
    {
      "cell_type": "code",
      "metadata": {
        "id": "Tiyx8oWCRK71",
        "colab": {
          "base_uri": "https://localhost:8080/",
          "height": 175
        },
        "outputId": "5468e85d-ca33-4e3e-c87e-e6ac7c867e12"
      },
      "source": [
        "df_final = concatenate_dataframe(loan_data, df_cat_variables)\n",
        "df_final.head(3)"
      ],
      "execution_count": null,
      "outputs": [
        {
          "output_type": "execute_result",
          "data": {
            "text/html": [
              "<div>\n",
              "<style scoped>\n",
              "    .dataframe tbody tr th:only-of-type {\n",
              "        vertical-align: middle;\n",
              "    }\n",
              "\n",
              "    .dataframe tbody tr th {\n",
              "        vertical-align: top;\n",
              "    }\n",
              "\n",
              "    .dataframe thead th {\n",
              "        text-align: right;\n",
              "    }\n",
              "</style>\n",
              "<table border=\"1\" class=\"dataframe\">\n",
              "  <thead>\n",
              "    <tr style=\"text-align: right;\">\n",
              "      <th></th>\n",
              "      <th>Gender</th>\n",
              "      <th>ApplicantIncome</th>\n",
              "      <th>CoapplicantIncome</th>\n",
              "      <th>LoanAmount</th>\n",
              "      <th>Loan_Amount_Term</th>\n",
              "      <th>Credit_History</th>\n",
              "      <th>Loan_Status</th>\n",
              "      <th>Married_No</th>\n",
              "      <th>Married_Yes</th>\n",
              "      <th>Education_Graduate</th>\n",
              "      <th>Education_Not Graduate</th>\n",
              "      <th>Dependents_0</th>\n",
              "      <th>Dependents_1</th>\n",
              "      <th>Dependents_2</th>\n",
              "      <th>Dependents_3+</th>\n",
              "      <th>Self_Employed_No</th>\n",
              "      <th>Self_Employed_Yes</th>\n",
              "      <th>Property_Area_Rural</th>\n",
              "      <th>Property_Area_Semiurban</th>\n",
              "      <th>Property_Area_Urban</th>\n",
              "    </tr>\n",
              "  </thead>\n",
              "  <tbody>\n",
              "    <tr>\n",
              "      <th>0</th>\n",
              "      <td>1</td>\n",
              "      <td>4583</td>\n",
              "      <td>1508.0</td>\n",
              "      <td>128.0</td>\n",
              "      <td>360.0</td>\n",
              "      <td>1.0</td>\n",
              "      <td>0</td>\n",
              "      <td>0</td>\n",
              "      <td>1</td>\n",
              "      <td>1</td>\n",
              "      <td>0</td>\n",
              "      <td>0</td>\n",
              "      <td>1</td>\n",
              "      <td>0</td>\n",
              "      <td>0</td>\n",
              "      <td>1</td>\n",
              "      <td>0</td>\n",
              "      <td>1</td>\n",
              "      <td>0</td>\n",
              "      <td>0</td>\n",
              "    </tr>\n",
              "    <tr>\n",
              "      <th>1</th>\n",
              "      <td>1</td>\n",
              "      <td>3000</td>\n",
              "      <td>0.0</td>\n",
              "      <td>66.0</td>\n",
              "      <td>360.0</td>\n",
              "      <td>1.0</td>\n",
              "      <td>1</td>\n",
              "      <td>0</td>\n",
              "      <td>1</td>\n",
              "      <td>1</td>\n",
              "      <td>0</td>\n",
              "      <td>1</td>\n",
              "      <td>0</td>\n",
              "      <td>0</td>\n",
              "      <td>0</td>\n",
              "      <td>0</td>\n",
              "      <td>1</td>\n",
              "      <td>0</td>\n",
              "      <td>0</td>\n",
              "      <td>1</td>\n",
              "    </tr>\n",
              "    <tr>\n",
              "      <th>2</th>\n",
              "      <td>1</td>\n",
              "      <td>2583</td>\n",
              "      <td>2358.0</td>\n",
              "      <td>120.0</td>\n",
              "      <td>360.0</td>\n",
              "      <td>1.0</td>\n",
              "      <td>1</td>\n",
              "      <td>0</td>\n",
              "      <td>1</td>\n",
              "      <td>0</td>\n",
              "      <td>1</td>\n",
              "      <td>1</td>\n",
              "      <td>0</td>\n",
              "      <td>0</td>\n",
              "      <td>0</td>\n",
              "      <td>1</td>\n",
              "      <td>0</td>\n",
              "      <td>0</td>\n",
              "      <td>0</td>\n",
              "      <td>1</td>\n",
              "    </tr>\n",
              "  </tbody>\n",
              "</table>\n",
              "</div>"
            ],
            "text/plain": [
              "  Gender  ApplicantIncome  ...  Property_Area_Semiurban  Property_Area_Urban\n",
              "0      1             4583  ...                        0                    0\n",
              "1      1             3000  ...                        0                    1\n",
              "2      1             2583  ...                        0                    1\n",
              "\n",
              "[3 rows x 20 columns]"
            ]
          },
          "metadata": {
            "tags": []
          },
          "execution_count": 16
        }
      ]
    },
    {
      "cell_type": "markdown",
      "metadata": {
        "id": "zm0Vftob5h-i"
      },
      "source": [
        "**Split the dataframe into train and test test**"
      ]
    },
    {
      "cell_type": "markdown",
      "metadata": {
        "id": "7-afNyQlSjjR"
      },
      "source": [
        "We are now ready to split our dataframe into train and test set for our classification model (Logistic Regresion). 80% of the data will be used to train the logistic and regression model and the remaining 20% will be used as test set."
      ]
    },
    {
      "cell_type": "code",
      "metadata": {
        "id": "lytEUZLiUyxX"
      },
      "source": [
        "#Define the input variables \n",
        "X = df_final.drop('Loan_Status', axis=1)  \n",
        "#Define our target variable\n",
        "y =  df_final['Loan_Status']   \n",
        "#Split into train and test set                 \n",
        "X_train, X_test, y_train, y_test = train_test_split(X, y, test_size=0.2, random_state=0)"
      ],
      "execution_count": null,
      "outputs": []
    },
    {
      "cell_type": "markdown",
      "metadata": {
        "id": "wXTOhycQB8H0"
      },
      "source": [
        "# 3. Measure fairness on test set (before applying a ML model)"
      ]
    },
    {
      "cell_type": "markdown",
      "metadata": {
        "id": "H8EVIc_T5h-i"
      },
      "source": [
        "## 3.1 Metrics used to measure fairness"
      ]
    },
    {
      "cell_type": "markdown",
      "metadata": {
        "id": "TyozsZ8gRfzD"
      },
      "source": [
        "There are various metrics to measure the fairness of a dataset or of the output of a machine learning model.\n",
        "Two classical and intuitive ones are called \"Desperate Impact (DI)\" and \"Statistical Parity Difference (SDP)\".\n",
        "\n",
        "**Metrics :** \n",
        "\n",
        "* **Desperate Impact (DI)** : \n",
        "\n",
        "\n",
        "The ratio of rate of favorable outcome (acceptance of loan) for the unprivileged group (women in our case) to that of the privileged group (men). \n",
        "\n",
        "This metric has to be equal to 1 to be perfectly fair. The disproportionate effect is considered as important when DI is less than 80%. \n",
        "\n",
        "$$ DI = \\frac{Pr(Loan\\_Status=1|Gender=Female)}{Pr(Loan\\_Status=1|Gender=Male)}$$\n",
        "\n",
        "Despare impact refers to discrimination that is unintentional. This is a more subtle form of discrimination since it is usually unintentional. It occurs when two groups are treated equally within a given set of organizational rules and procedures, but the rules and procedures confer advantages to one group over another, and at the same time are irrelevant for job or organizational performance.\n",
        "\n"
      ]
    },
    {
      "cell_type": "markdown",
      "metadata": {
        "id": "-AaGbHuYVD5r"
      },
      "source": [
        "Let's illustrate with an example."
      ]
    },
    {
      "cell_type": "markdown",
      "metadata": {
        "id": "ZEvpMGCuwLUa"
      },
      "source": [
        "\n",
        "\n",
        "---\n",
        "\n",
        "\n",
        "> Let **X** be a company that receives 300 applications for a Machine Learning internship position. Half of the applications are from male candidates and the other half female candidates. The company selects **75 women** and **120 men** from all applications. The question one may asks is : does this selection adversely impact female applicants ? \n",
        "\n",
        "> Selection rates for men and women are respectively $\\frac{120}{150}$ and $\\frac{75}{150}$ ( $80\\%$ for men and $50\\%$ for women). In our example, men have the highest selection rate. They're therefore what we called the *priviledged group*.\n",
        "<br/>\n",
        "\n",
        "> Let's now divide female selection rate by the male one which will give us the Desparate Impact. We find that $DI=62.5\\% \\lt 80\\%$ which means that there's an adverse impact on the female group.\n",
        "---\n",
        "\n",
        "\n",
        "\n"
      ]
    },
    {
      "cell_type": "markdown",
      "metadata": {
        "id": "Vg_bpvfFI8W0"
      },
      "source": [
        "* **Statistical Parity Difference (SPD)**:\n",
        "  \n",
        "  When SPD is close to 0, it is fair. \n",
        "\n",
        "$$SPD = Pr(Loan\\_Status=1|Gender=Female)−Pr(Loan\\_Status=1|Gender=Male)$$\n"
      ]
    },
    {
      "cell_type": "markdown",
      "metadata": {
        "id": "xUTovFeocJLs"
      },
      "source": [
        "> In the previous example, $SPD = \\frac{120}{150} - \\frac{75}{150} = 0.3 $ "
      ]
    },
    {
      "cell_type": "markdown",
      "metadata": {
        "id": "_VWTEnwq5h-k"
      },
      "source": [
        "## 3.2 Measure of fairness on test set\n",
        "\n",
        "In this section, we compute DI and SPD in order to check for the bias in the dataset."
      ]
    },
    {
      "cell_type": "code",
      "metadata": {
        "id": "6439aLeiuncZ"
      },
      "source": [
        "# copy of the test dataset\n",
        "test_fairness = X_test.copy()\n",
        "test_fairness['Target'] = y_test\n",
        "\n",
        "# Calculation of DI and SPD\n",
        "df_male = test_fairness[test_fairness['Gender'] == 1]\n",
        "male_count = len(df_male)\n",
        "df_female = test_fairness[test_fairness['Gender'] == 0]\n",
        "female_count = len(df_female)\n",
        "\n",
        "\n",
        "female_accepted_loans_count = len(df_female[df_female['Target'] == 1])\n",
        "female_ratio = female_accepted_loans_count/female_count\n",
        "\n",
        "\n",
        "male_accepted_loans_count = len(df_male[df_male['Target'] == 1])\n",
        "male_ratio = male_accepted_loans_count/male_count\n",
        "\n",
        "desperate_impact = female_ratio/male_ratio\n",
        "\n",
        "spd = female_ratio - male_ratio"
      ],
      "execution_count": null,
      "outputs": []
    },
    {
      "cell_type": "code",
      "metadata": {
        "id": "isptbQANyDns",
        "colab": {
          "base_uri": "https://localhost:8080/"
        },
        "outputId": "192495cc-53fa-4ddf-f345-3b4e656ee489"
      },
      "source": [
        "print(\"Female favorable outcome rate:\\t%.2f\" % female_ratio)\n",
        "print('------------------------------------')\n",
        "print(\"Male favorable outcome rate:\\t%.2f\" % male_ratio)\n",
        "print('------------------------------------')\n",
        "print(\"Desparate Impact value:\\t\\t%.2f\" % desperate_impact)\n",
        "print('------------------------------------')\n",
        "print(\"Statistical Parity Difference: %.2f\" % spd)\n"
      ],
      "execution_count": null,
      "outputs": [
        {
          "output_type": "stream",
          "text": [
            "Female favorable outcome rate:\t0.60\n",
            "------------------------------------\n",
            "Male favorable outcome rate:\t0.72\n",
            "------------------------------------\n",
            "Desparate Impact value:\t\t0.83\n",
            "------------------------------------\n",
            "Statistical Parity Difference: -0.12\n"
          ],
          "name": "stdout"
        }
      ]
    },
    {
      "cell_type": "markdown",
      "metadata": {
        "id": "WuDbXbLdzNIg"
      },
      "source": [
        "The dataset is biased against female given DI and SPD values. However, since DI > 0.8, it is not considered that there is an \"adverse impact\" on a female group."
      ]
    },
    {
      "cell_type": "markdown",
      "metadata": {
        "id": "JggUuN_fz98S"
      },
      "source": [
        "# 4. Apply a simple machine learning model : Logistic Regression\n",
        "The purpose of the ML model is to make a binary classification - predict either a loan will be accepted or rejected - given the explicative variables. "
      ]
    },
    {
      "cell_type": "markdown",
      "metadata": {
        "id": "y2Q5FGm0LVzC"
      },
      "source": [
        "## 4.1 Simple explanations about logistic regression"
      ]
    },
    {
      "cell_type": "markdown",
      "metadata": {
        "id": "Q6scW6T_LgCn"
      },
      "source": [
        "Logistic Regression is a classification algorithm that assigns observations to a set of classes. Here, we have two classes: accepted and rejected loan.<br>\n",
        "\n",
        "As its name suggests, logistic regression is based on the regression of a logistic function (or sigmoid function). This function has the particularity to map every real value into another value between 0 and 1. After having computed the regression coefficients of a such function thanks to train data, the output of this function can be seen as a probability of belonging to class \"Accepted\".<br>\n",
        "\n",
        "<img src=\"https://miro.medium.com/max/1094/1*JHWL_71qml0kP_Imyx4zBg.png\" align=\"center\" alt=\"sigmoid function\" width=\"350\"/><br>\n",
        "\n",
        "To assign each predicted probability from the logistic function to a class, we define a threshold of 0.5. If a predicted probability >= 0.5, then an observation is assigned to class \"Accepted\" and to class \"Rejected\" otherwise.<br>\n",
        "\n",
        "If you want to have more detailed explanations about regression, see this page:\n",
        "https://ml-cheatsheet.readthedocs.io/en/latest/logistic_regression.html#binary-logistic-regression"
      ]
    },
    {
      "cell_type": "markdown",
      "metadata": {
        "id": "stOcztvc5h-m"
      },
      "source": [
        "## 4.2 Apply a logistic regression model"
      ]
    },
    {
      "cell_type": "markdown",
      "metadata": {
        "id": "rs9wFgSe5h-m"
      },
      "source": [
        "**Import the logistic model from sklearn library**"
      ]
    },
    {
      "cell_type": "code",
      "metadata": {
        "id": "TSHOMATx53rh"
      },
      "source": [
        "# import the relevant library from sklearn (https://scikit-learn.org/)\n",
        "from sklearn import linear_model as lm"
      ],
      "execution_count": null,
      "outputs": []
    },
    {
      "cell_type": "markdown",
      "metadata": {
        "id": "gMFdjLpw5h-m"
      },
      "source": [
        "**Instanciate and train the model**"
      ]
    },
    {
      "cell_type": "code",
      "metadata": {
        "id": "WUPi0NOpptiT",
        "colab": {
          "base_uri": "https://localhost:8080/"
        },
        "outputId": "c8d49dee-63e8-4bae-c711-8bcd7a1d9da1"
      },
      "source": [
        "# instantiate the logistic regression model\n",
        "logistic_R = lm.LogisticRegression(solver='liblinear', class_weight='balanced')\n",
        "\n",
        "# Train the model\n",
        "logistic_R.fit(X_train, y_train.to_list())"
      ],
      "execution_count": null,
      "outputs": [
        {
          "output_type": "execute_result",
          "data": {
            "text/plain": [
              "LogisticRegression(C=1.0, class_weight='balanced', dual=False,\n",
              "                   fit_intercept=True, intercept_scaling=1, l1_ratio=None,\n",
              "                   max_iter=100, multi_class='auto', n_jobs=None, penalty='l2',\n",
              "                   random_state=None, solver='liblinear', tol=0.0001, verbose=0,\n",
              "                   warm_start=False)"
            ]
          },
          "metadata": {
            "tags": []
          },
          "execution_count": 21
        }
      ]
    },
    {
      "cell_type": "markdown",
      "metadata": {
        "id": "tWPLEs315h-n"
      },
      "source": [
        "**Make predictions**"
      ]
    },
    {
      "cell_type": "code",
      "metadata": {
        "id": "unEGCRec5EME"
      },
      "source": [
        "# Make predictions on the test dataset.\n",
        "# Then, we will evaluate the model by comparing the predictions of a the logistic regression model to the real target values of the test set.\n",
        "logistic_pred = logistic_R.predict(X_test)"
      ],
      "execution_count": null,
      "outputs": []
    },
    {
      "cell_type": "markdown",
      "metadata": {
        "id": "LbLhueQr5h-n"
      },
      "source": [
        "## 4.3 Evaluate results"
      ]
    },
    {
      "cell_type": "markdown",
      "metadata": {
        "id": "YhUEzHEi7v7W"
      },
      "source": [
        "In this section, we will compute classification metrics to assess the performance of our model. The metrics to be computed are:"
      ]
    },
    {
      "cell_type": "markdown",
      "metadata": {
        "id": "UZl9AlYc06_n"
      },
      "source": [
        "<div>\n",
        "  \\begin{array}{|c|c|c|c|}\\hline \\\\ \\\\\n",
        "  \\mathcal{Metric} & \\mathcal{Formula} & \\mathcal{Interpretation} \\\\ \\hline\\\\ \\\\\n",
        "  Specifity & \\frac{TN}{TN+FP} & Coverage\\;of\\;actual\\;negative\\;sample \\\\ \\hline\\\\ \\\\\n",
        "  Precision & \\frac{TP}{TP+FP} & Coverage\\;of\\;actual\\;positive\\;sample \\\\ \\hline\\\\ \\\\\n",
        "  Recall & \\frac{TP}{TP+FN} & Describes\\;how\\;accurate\\;the\\;positives\\;predictions\\;are \\\\ \\hline\\\\ \\\\\n",
        "  F1\\; score & \\frac{2\\;*\\;precision\\;*\\;recall}{precision+recall} &  Combines\\;recall\\;and\\;precision\\;(weihgted\\;average\\;of\\;these\\;two\\;metrics) \\\\\\hline \\\\\n",
        "  False\\;Positive\\;Rate\\; (FPR) & \\frac{FP}{TN+FP} &Proportion\\;of\\;the\\;individuals\\;with\\;a\\;known\\;negative\\;condition\\;for\\;which\\;the\\;test\\;result\\;is\\;positive.   \\\\\\hline \\\\\n",
        "  False\\;Negative\\;Rate\\; (FNR) & \\frac{FN}{TP+FN} & Proportion\\;of\\;the\\;individuals\\;with\\;a\\;known\\;positive\\;condition\\;for\\;which\\;the\\;test\\;result\\;is\\;negative.  \\\\\\hline\n",
        "  \\end{array}\n",
        "</div>\n",
        "<br/>\n",
        "Where \n",
        "\n",
        "* TP : True Positives - the model correctly predicts the positive class (+1)\n",
        "* FP : False Positives - Actual loan status is \"*Yes*\", model predics \"*No*\"\n",
        "* TN : True Negatives - the model correctly predicts the negative class (0)\n",
        "* FP : False Negatives - Actual loan status is \"*No*\", model predics \"*Yes*\""
      ]
    },
    {
      "cell_type": "markdown",
      "metadata": {
        "id": "5RcfkKXn1RWL"
      },
      "source": [
        "First of all, let's compute the confusion matrix with pandas crosstab() \\\\\n",
        "<img src=\"https://static.packt-cdn.com/products/9781838555078/graphics/C13314_06_05.jpg\" align=\"center\" alt=\"drawing\" width=\"400\"/>"
      ]
    },
    {
      "cell_type": "code",
      "metadata": {
        "id": "tbLM2-NT1XCN"
      },
      "source": [
        "def compute_confusion_matrix(observed, fitted):\n",
        "  \"\"\"Compute confusion matrix, given observed and fitted values\"\"\"\n",
        "  actual_labels = np.array(observed).reshape(1,-1)[0]\n",
        "  c_matrix = pd.crosstab(actual_labels, fitted).reset_index(drop=True)\n",
        "  return c_matrix"
      ],
      "execution_count": null,
      "outputs": []
    },
    {
      "cell_type": "code",
      "metadata": {
        "id": "02eRQL48yqQf",
        "colab": {
          "base_uri": "https://localhost:8080/",
          "height": 108
        },
        "outputId": "39f92549-1933-471b-81ac-67a795dff0f5"
      },
      "source": [
        "#Test your function\n",
        "c_matrix = compute_confusion_matrix(y_test, logistic_pred)\n",
        "c_matrix"
      ],
      "execution_count": null,
      "outputs": [
        {
          "output_type": "execute_result",
          "data": {
            "text/html": [
              "<div>\n",
              "<style scoped>\n",
              "    .dataframe tbody tr th:only-of-type {\n",
              "        vertical-align: middle;\n",
              "    }\n",
              "\n",
              "    .dataframe tbody tr th {\n",
              "        vertical-align: top;\n",
              "    }\n",
              "\n",
              "    .dataframe thead th {\n",
              "        text-align: right;\n",
              "    }\n",
              "</style>\n",
              "<table border=\"1\" class=\"dataframe\">\n",
              "  <thead>\n",
              "    <tr style=\"text-align: right;\">\n",
              "      <th>col_0</th>\n",
              "      <th>0</th>\n",
              "      <th>1</th>\n",
              "    </tr>\n",
              "  </thead>\n",
              "  <tbody>\n",
              "    <tr>\n",
              "      <th>0</th>\n",
              "      <td>34</td>\n",
              "      <td>13</td>\n",
              "    </tr>\n",
              "    <tr>\n",
              "      <th>1</th>\n",
              "      <td>16</td>\n",
              "      <td>91</td>\n",
              "    </tr>\n",
              "  </tbody>\n",
              "</table>\n",
              "</div>"
            ],
            "text/plain": [
              "col_0   0   1\n",
              "0      34  13\n",
              "1      16  91"
            ]
          },
          "metadata": {
            "tags": []
          },
          "execution_count": 25
        }
      ]
    },
    {
      "cell_type": "code",
      "metadata": {
        "id": "pAF4eD3q1501"
      },
      "source": [
        "def compute_precision(observed, fitted):\n",
        "    \"\"\"Compute precision, given observed and fitted values\"\"\"\n",
        "    #Compute confusion matrix using above function and get the tn ,tp, fp and fn values\n",
        "    tn, fp, fn, tp = np.array(compute_confusion_matrix(observed, fitted)).ravel()\n",
        "    return tp/(tp+fp)\n",
        "\n",
        "def compute_specificity(observed, fitted):\n",
        "    \"\"\"Compute precision, given observed and fitted values\"\"\"\n",
        "    tn, fp, fn, tp = np.array(compute_confusion_matrix(observed, fitted)).ravel()\n",
        "    return tn/(tn+fp)\n",
        "\n",
        "def compute_recall(observed, fitted):\n",
        "    \"\"\"Compute recall, given observed and fitted values\"\"\"\n",
        "    tn, fp, fn, tp = np.array(compute_confusion_matrix(observed, fitted)).ravel()\n",
        "    return tp/(tp+fn)\n",
        "\n",
        "def compute_f1_score(observed, fitted):\n",
        "    \"\"\"Compute F1-score, given observed and fitted values\"\"\"\n",
        "    recall = compute_recall(observed, fitted)\n",
        "    precision = compute_precision(observed, fitted)\n",
        "    return 2*precision*recall/(precision + recall)\n",
        "\n",
        "def compute_fnr_fpr(observed, fitted):\n",
        "    \"\"\"Compute false positive and negative rate, given observed and fitted values\"\"\"\n",
        "    tn, fp, fn, tp = np.array(compute_confusion_matrix(observed, fitted)).ravel()\n",
        "    false_positive_rate =  fp/(tn+fp)\n",
        "    false_negative_rate = fn/(tp+fn)\n",
        "    return false_negative_rate, false_positive_rate"
      ],
      "execution_count": null,
      "outputs": []
    },
    {
      "cell_type": "code",
      "metadata": {
        "id": "iAPAbVN91-JR",
        "colab": {
          "base_uri": "https://localhost:8080/"
        },
        "outputId": "c5d3c1e0-3adf-42f0-ffde-dad65555cfa8"
      },
      "source": [
        "print(\"Specificity:\\t\\t\\t%.2f\" % compute_specificity(y_test, logistic_pred))\n",
        "print(\"Precision:\\t\\t\\t%.2f\" % compute_precision(y_test, logistic_pred))\n",
        "print(\"Recall:\\t\\t\\t\\t%.2f\" % compute_recall(y_test, logistic_pred))\n",
        "print(\"F1-score:\\t\\t\\t%.2f\" % compute_f1_score(y_test, logistic_pred))\n",
        "print(\"False Negative Rate:\\t\\t%.2f\" % compute_fnr_fpr(y_test, logistic_pred)[0])\n",
        "print(\"False Positive Rate:\\t\\t%.2f\" % compute_fnr_fpr(y_test, logistic_pred)[1])"
      ],
      "execution_count": null,
      "outputs": [
        {
          "output_type": "stream",
          "text": [
            "Specificity:\t\t\t0.72\n",
            "Precision:\t\t\t0.88\n",
            "Recall:\t\t\t\t0.85\n",
            "F1-score:\t\t\t0.86\n",
            "False Negative Rate:\t\t0.15\n",
            "False Positive Rate:\t\t0.28\n"
          ],
          "name": "stdout"
        }
      ]
    },
    {
      "cell_type": "markdown",
      "metadata": {
        "id": "sqit1p3F9RIc"
      },
      "source": [
        "In the following cell, we will compute the accuracy for each label"
      ]
    },
    {
      "cell_type": "code",
      "metadata": {
        "id": "IloEKlfe8Ibj",
        "colab": {
          "base_uri": "https://localhost:8080/"
        },
        "outputId": "b887f670-0eb3-4203-9ddd-8b40f7cb6bae"
      },
      "source": [
        "actual_label, actual_label_count = np.unique(y_test.to_list(), return_counts=True)\n",
        "data_dict = dict(zip(actual_label, actual_label_count))\n",
        "\n",
        "print('Actual labels: ', dict(zip(actual_label, actual_label_count)))\n",
        "print(' ')\n",
        "get_confusion_matrix  = metrics.confusion_matrix(y_test.to_list(), logistic_pred)\n",
        "\n",
        "predicted_labels, predicted_label_counts = np.unique(logistic_pred, return_counts=True)\n",
        "print('Predicted labels: ', dict(zip(predicted_labels, predicted_label_counts)))\n",
        "print(' ')\n",
        "\n",
        "for i in range(len(predicted_labels)):\n",
        "    print('Label {0} accuracy: {1:0.1f}%'.format(i, 100 * get_confusion_matrix[i,i]/actual_label_count[i]))"
      ],
      "execution_count": null,
      "outputs": [
        {
          "output_type": "stream",
          "text": [
            "Actual labels:  {0: 47, 1: 107}\n",
            " \n",
            "Predicted labels:  {0: 50, 1: 104}\n",
            " \n",
            "Label 0 accuracy: 72.3%\n",
            "Label 1 accuracy: 85.0%\n"
          ],
          "name": "stdout"
        }
      ]
    },
    {
      "cell_type": "markdown",
      "metadata": {
        "id": "e1luZ_ed9MVr"
      },
      "source": [
        "# 5. Measure fairness on the predictions made by the ML model"
      ]
    },
    {
      "cell_type": "code",
      "metadata": {
        "id": "XxsnQ7rF8h3g"
      },
      "source": [
        "metrics_df = X_test.copy()\n",
        "metrics_df['Predicted'] = logistic_pred\n",
        "metrics_df['Label'] = y_test.copy()\n",
        "\n",
        "df_male_pred = metrics_df[metrics_df['Gender'] == 1]\n",
        "male_count_pred = len(df_male_pred)\n",
        "df_female_pred = metrics_df[metrics_df['Gender'] == 0]\n",
        "female_count_pred = len(df_female_pred)\n",
        "\n",
        "\n",
        "female_accepted_loans_count_pred = len(df_female_pred[df_female_pred['Predicted'] == 1])\n",
        "female_ratio_pred = female_accepted_loans_count_pred/female_count_pred\n",
        "\n",
        "\n",
        "male_accepted_loans_count_pred = len(df_male_pred[df_male_pred['Predicted'] == 1])\n",
        "male_ratio_pred = male_accepted_loans_count_pred/male_count_pred\n",
        "\n",
        "desperate_impact_pred = female_ratio_pred/male_ratio_pred\n",
        "\n",
        "spd_pred = female_ratio_pred - male_ratio_pred\n",
        "\n",
        "# False positive and negative rates within each group\n",
        "tn_male, fp_male, fn_male, tp_male   = metrics.confusion_matrix(df_male_pred['Label'].to_list(), \n",
        "                                                      df_male_pred['Predicted'].to_list()).ravel()\n",
        "tn_female, fp_female, fn_female, tp_female  = metrics.confusion_matrix(df_female_pred['Label'].to_list(), \n",
        "                                                        df_female_pred['Predicted'].to_list()).ravel()\n",
        "\n",
        "## false positive rate\n",
        "fpr_male = round(fp_male/(fp_male + tn_male),3)\n",
        "fpr_female = round(fp_female/(fp_female + tn_female),3)\n",
        "\n",
        "## false negative rate\n",
        "fnr_male = round(fn_male/(fn_male + tp_male),3)\n",
        "fnr_female = round(fn_female/(fn_female + tp_female),3)"
      ],
      "execution_count": null,
      "outputs": []
    },
    {
      "cell_type": "code",
      "metadata": {
        "id": "HpreUxS2-XL9",
        "colab": {
          "base_uri": "https://localhost:8080/"
        },
        "outputId": "b781c15d-9e60-4377-c167-43320aa170f6"
      },
      "source": [
        "print(\"Female favorable outcome rate:\\t%.2f\" % female_ratio_pred)\n",
        "print('------------------------------------')\n",
        "print(\"Male favorable outcome rate:\\t%.2f\" % male_ratio_pred)\n",
        "print('------------------------------------')\n",
        "print(\"Desparate Impact value:\\t\\t%.2f\" % desperate_impact_pred)\n",
        "print('------------------------------------')\n",
        "print(\"Statistical Parity Difference: %.2f\" %spd_pred)\n",
        "print('------------------------------------')\n",
        "print('------------------------------------')\n",
        "print(\"False Positive Rate \\n \\t within male group: \\t%.2f\" %fpr_male)\n",
        "print('------------------------------------')\n",
        "print(\"False Positive Rate \\n \\t within female group:  \\t%.2f\" %fpr_female)\n",
        "print('------------------------------------')\n",
        "print(\"False Negative Rate \\n \\t within male group:  \\t%.2f\" %fnr_male)\n",
        "print('------------------------------------')\n",
        "print(\"False Negative Rate \\n \\t within female group:  \\t%.2f\" %fnr_female)"
      ],
      "execution_count": null,
      "outputs": [
        {
          "output_type": "stream",
          "text": [
            "Female favorable outcome rate:\t0.49\n",
            "------------------------------------\n",
            "Male favorable outcome rate:\t0.73\n",
            "------------------------------------\n",
            "Desparate Impact value:\t\t0.66\n",
            "------------------------------------\n",
            "Statistical Parity Difference: -0.25\n",
            "------------------------------------\n",
            "------------------------------------\n",
            "False Positive Rate \n",
            " \t within male group: \t0.30\n",
            "------------------------------------\n",
            "False Positive Rate \n",
            " \t within female group:  \t0.21\n",
            "------------------------------------\n",
            "False Negative Rate \n",
            " \t within male group:  \t0.10\n",
            "------------------------------------\n",
            "False Negative Rate \n",
            " \t within female group:  \t0.33\n"
          ],
          "name": "stdout"
        }
      ]
    },
    {
      "cell_type": "markdown",
      "metadata": {
        "id": "dBuU35OmUTcE"
      },
      "source": [
        "Previously, when we evaluated the bias of the dataset, we observed a slight bias that was not having an \"adverse impact\" on the female group (DI = 0.83).\n",
        "\n",
        "However, after applying the logistic regression, the gender bias has increased and it now becomes \"disproportionate\" given DI < 0.8.\n",
        "\n",
        "Additionally, it is also interesting to notice that the bias can be observed through computing false positive rates and false negative rates within each group. Here, it appears that the false positive rates are in favor of males and the false negative rates are against females. "
      ]
    },
    {
      "cell_type": "markdown",
      "metadata": {
        "id": "Kn9OGrdMWtSq"
      },
      "source": [
        "## 6. Impacts of swapping gender attributes on loan eligibility"
      ]
    },
    {
      "cell_type": "code",
      "metadata": {
        "id": "8_x_JCAZWszT"
      },
      "source": [
        "def switch_gender_and_analyze(X_test, ml_model, original_gender=0):\n",
        "    \"\"\"\n",
        "    Returns the number of loans accepted before and after switching the gender attribute\n",
        "    \n",
        "    Parameters:\n",
        "    ----------\n",
        "    X_test : pd.DataFrame\n",
        "        Test set without labels\n",
        "    \n",
        "    ml_model : sklearn model object\n",
        "        Sklearn model object already trained\n",
        "        \n",
        "    original_gender : boolean\n",
        "        Gender attribute to analyze. 1 corresponds to male, 0 to female.\n",
        "    \n",
        "    Returns:\n",
        "    --------\n",
        "    integer, integer\n",
        "    Two numbers :\n",
        "        1. The number of accepted loans before switching gender attribute\n",
        "        2. The number of accepted loans after switching gender attribute\n",
        "    \n",
        "    \"\"\"\n",
        "    \n",
        "    X_test_switching_gender = X_test.copy()\n",
        "    X_test_switching_gender = X_test_switching_gender[X_test_switching_gender['Gender']==original_gender]\n",
        "    X_test_switching_gender['Gender'] = X_test_switching_gender['Gender'].apply(lambda x: 1-x)\n",
        "    logistic_pred_switching_gender = ml_model.predict(X_test_switching_gender) \n",
        "    logistic_pred_before_switching_gender = ml_model.predict(X_test[X_test['Gender']==original_gender].copy())\n",
        "    \n",
        "    return logistic_pred_before_switching_gender.sum(), logistic_pred_switching_gender.sum()"
      ],
      "execution_count": null,
      "outputs": []
    },
    {
      "cell_type": "code",
      "metadata": {
        "id": "5PWWhDnkWxdJ"
      },
      "source": [
        "logistic_pred_before_switching_from_female, logistic_pred_after_switching_from_female = switch_gender_and_analyze(X_test,\n",
        "                                                                                                      logistic_R,\n",
        "                                                                                                      original_gender=0)\n",
        "\n",
        "logistic_pred_before_switching_from_male, logistic_pred_after_switching_from_male = switch_gender_and_analyze(X_test,\n",
        "                                                                                                      logistic_R,\n",
        "                                                                                                      original_gender=1)"
      ],
      "execution_count": null,
      "outputs": []
    },
    {
      "cell_type": "code",
      "metadata": {
        "id": "nNNFxUexWzkT",
        "colab": {
          "base_uri": "https://localhost:8080/"
        },
        "outputId": "2fcf9b18-7eb3-4698-c492-26802eba4e21"
      },
      "source": [
        "print('Before switching to female, number of accepted loans among males of test set:\\t{}'.\\\n",
        "      format(logistic_pred_before_switching_from_male))\n",
        "print('After switching to female, number of accepted loans among males of test set:\\t{}'.\\\n",
        "      format(logistic_pred_after_switching_from_male))\n",
        "print('Variation :\\t{}'.\\\n",
        "      format(logistic_pred_after_switching_from_male - logistic_pred_before_switching_from_male))\n",
        "print('------------------------------------')\n",
        "print('Before switching to male, number of accepted loans among females of test set:\\t{}'.\\\n",
        "      format(logistic_pred_before_switching_from_female))\n",
        "print('After switching to male, number of accepted loans among females of test set:\\t{}'.\\\n",
        "      format(logistic_pred_after_switching_from_female))\n",
        "print('Variation :\\t{}'.\\\n",
        "      format(logistic_pred_after_switching_from_female - logistic_pred_before_switching_from_female))"
      ],
      "execution_count": null,
      "outputs": [
        {
          "output_type": "stream",
          "text": [
            "Before switching to female, number of accepted loans among males of test set:\t87\n",
            "After switching to female, number of accepted loans among males of test set:\t84\n",
            "Variation :\t-3\n",
            "------------------------------------\n",
            "Before switching to male, number of accepted loans among females of test set:\t17\n",
            "After switching to male, number of accepted loans among females of test set:\t19\n",
            "Variation :\t2\n"
          ],
          "name": "stdout"
        }
      ]
    },
    {
      "cell_type": "markdown",
      "metadata": {
        "id": "aau9ZB_yW8H8"
      },
      "source": [
        "This experiment shows that *the model favors males to the detriment of females* :  switching male attributes to females decreases the number of accepted loans by 3 and swapping female attributes to males increases this number by 2."
      ]
    },
    {
      "cell_type": "markdown",
      "metadata": {
        "id": "zYhSGk43qFTw"
      },
      "source": [
        "# 7. Correcting Bias\n",
        "\n",
        "\n",
        "To fix the bias regarding gender, we are going to use IBM AIF360. This module provide us with 3 types of algorithm to mitigate bias. \n",
        "\n",
        "* Pre-processing algorithms : they are used before training the model\n",
        "* In-processing algorithms : they are fair classifiers so it's during the training\n",
        "* Post-processing algorithms : they are used after training the model\n",
        "\n",
        "<br/>\n",
        "\n",
        "Let us focus on the fist category. We will use Disparate Impact Remover (DIR)."
      ]
    },
    {
      "cell_type": "markdown",
      "metadata": {
        "id": "YvHj15pxehfJ"
      },
      "source": [
        "\n",
        "<img src=\"https://miro.medium.com/max/875/1*p6EbbdwXIHI6lIgk83avkA.png\" alt=\"drawing\" width=\"500\"/>\n",
        "\n",
        "\n",
        "In this preprocessing technique, feature values are edited in order to increase fairness.  Let's assume that in the above image the blue curve corresponds to the unpriviledge group (gender = female) and the red one to the priviledged group. The distribution value of these curves are different. We want priviledged and unpriviledged distribution of a given feature to overlap or at least be closed to each other in order to mitigate bias. Indeed, the main goal of the Disparate Impact Remover is to remove the ability to distinguish between the two groups. Thus, for a given feature, the algorithm tries to determine the \"middle\" distribution and then it changes the values of the feature for each of the subgroups."
      ]
    },
    {
      "cell_type": "markdown",
      "metadata": {
        "id": "Noln7xkc1f9m"
      },
      "source": [
        "We transform our dataset into a *Binary Label Dataset* which is required by the IBM AIF360 tool. The protected attribute comprising bias is defined as gender and we denote the priviledged group to be the male gender. "
      ]
    },
    {
      "cell_type": "code",
      "metadata": {
        "id": "6HpicDrz-jeW"
      },
      "source": [
        "#Define the favorable and unfavorable label \n",
        "binaryLabelDataset = BinaryLabelDataset(\n",
        "    favorable_label=1,\n",
        "    unfavorable_label=0,\n",
        "    df=df_final,\n",
        "    label_names=['Loan_Status'],\n",
        "    protected_attribute_names=['Gender'])"
      ],
      "execution_count": null,
      "outputs": []
    },
    {
      "cell_type": "markdown",
      "metadata": {
        "id": "djogsjdm-iXG"
      },
      "source": [
        "We create a DisparateImpactRemover, fit and transform the data. The repair_level argument indicates how much we want the distributions to overlap or be closed to each other."
      ]
    },
    {
      "cell_type": "code",
      "metadata": {
        "id": "rjLr-Lbxuwsr"
      },
      "source": [
        "DIR = DisparateImpactRemover(repair_level = 1)\n",
        "dataset_transf_train = DIR.fit_transform(binaryLabelDataset)\n",
        "transformed = dataset_transf_train.convert_to_dataframe()[0]"
      ],
      "execution_count": null,
      "outputs": []
    },
    {
      "cell_type": "markdown",
      "metadata": {
        "id": "tipYcshuwIty"
      },
      "source": [
        "New train test split "
      ]
    },
    {
      "cell_type": "code",
      "metadata": {
        "id": "ySDIGL1uvey3"
      },
      "source": [
        "#Define new independant variables (predictors)\n",
        "X_new = transformed.drop('Loan_Status', axis=1)\n",
        "#Define our target variable\n",
        "y_new =  transformed['Loan_Status']\n",
        "#Split into train and test set \n",
        "x_train_new, x_test_new, y_train_new, y_test_new = train_test_split(X_new, y_new, test_size=0.2, random_state = 0)"
      ],
      "execution_count": null,
      "outputs": []
    },
    {
      "cell_type": "markdown",
      "metadata": {
        "id": "yNtVO6XB4vsc"
      },
      "source": [
        "**Instanciate and train model**"
      ]
    },
    {
      "cell_type": "code",
      "metadata": {
        "id": "4_yEhWLOya1k",
        "colab": {
          "base_uri": "https://localhost:8080/"
        },
        "outputId": "65d6047f-ff6a-4e67-c404-6846b8b3f84f"
      },
      "source": [
        "model = lm.LogisticRegression(solver='liblinear', class_weight='balanced')\n",
        "model.fit(x_train_new, y_train_new.to_list())"
      ],
      "execution_count": null,
      "outputs": [
        {
          "output_type": "execute_result",
          "data": {
            "text/plain": [
              "LogisticRegression(C=1.0, class_weight='balanced', dual=False,\n",
              "                   fit_intercept=True, intercept_scaling=1, l1_ratio=None,\n",
              "                   max_iter=100, multi_class='auto', n_jobs=None, penalty='l2',\n",
              "                   random_state=None, solver='liblinear', tol=0.0001, verbose=0,\n",
              "                   warm_start=False)"
            ]
          },
          "metadata": {
            "tags": []
          },
          "execution_count": 45
        }
      ]
    },
    {
      "cell_type": "markdown",
      "metadata": {
        "id": "9e7l1n9I4z_S"
      },
      "source": [
        "**Make predictions after mitigating bias**"
      ]
    },
    {
      "cell_type": "code",
      "metadata": {
        "id": "mA2dZrkhysGe"
      },
      "source": [
        "new_prediction = model.predict(x_test_new)"
      ],
      "execution_count": null,
      "outputs": []
    },
    {
      "cell_type": "markdown",
      "metadata": {
        "id": "I8A5aUqz46wr"
      },
      "source": [
        "Compute each label accuracy"
      ]
    },
    {
      "cell_type": "code",
      "metadata": {
        "id": "JKmz3aVVzIGG",
        "colab": {
          "base_uri": "https://localhost:8080/"
        },
        "outputId": "010e991d-1283-4b45-da80-eb355224ff59"
      },
      "source": [
        "new_actual_label, new_actual_label_count = np.unique(y_test_new.to_list(), return_counts=True)\n",
        "new_data_dict = dict(zip(new_actual_label, new_actual_label_count))\n",
        "\n",
        "print('Actual labels: ', dict(zip(new_actual_label, new_actual_label_count)))\n",
        "print(' ')\n",
        "new_get_confusion_matrix  = metrics.confusion_matrix(y_test_new.to_list(), new_prediction)\n",
        "\n",
        "new_predicted_labels, new_predicted_label_counts = np.unique(new_prediction, return_counts=True)\n",
        "print('Predicted labels: ', dict(zip(new_predicted_labels, new_predicted_label_counts)))\n",
        "print(' ')\n",
        "print('Confusion matrix of predicted data:')\n",
        "print(pd.DataFrame(new_get_confusion_matrix))\n",
        "print(' ')\n",
        "\n",
        "for i in range(len(new_predicted_labels)):\n",
        "    print('Label {0} accuracy: {1:0.1f}%'.format(i, 100 * new_get_confusion_matrix[i,i]/new_actual_label_count[i]))"
      ],
      "execution_count": null,
      "outputs": [
        {
          "output_type": "stream",
          "text": [
            "Actual labels:  {0.0: 47, 1.0: 107}\n",
            " \n",
            "Predicted labels:  {0.0: 50, 1.0: 104}\n",
            " \n",
            "Confusion matrix of predicted data:\n",
            "    0   1\n",
            "0  35  12\n",
            "1  15  92\n",
            " \n",
            "Label 0 accuracy: 74.5%\n",
            "Label 1 accuracy: 86.0%\n"
          ],
          "name": "stdout"
        }
      ]
    },
    {
      "cell_type": "markdown",
      "metadata": {
        "id": "nBE2gkcF5Op2"
      },
      "source": [
        "**Measure fairness after bias mitigation**"
      ]
    },
    {
      "cell_type": "code",
      "metadata": {
        "id": "Wkrt7gI4z5gZ"
      },
      "source": [
        "#Copy new test dataframe\n",
        "new_metrics_df = x_test_new.copy()\n",
        "new_metrics_df['Target'] = new_prediction\n",
        "\n",
        "#Compute DI and SPD after bias mitigation\n",
        "new_df_male = new_metrics_df[new_metrics_df['Gender'] == 1]\n",
        "new_male_count = len(new_df_male)\n",
        "new_df_female = new_metrics_df[new_metrics_df['Gender'] == 0]\n",
        "new_female_count = len(df_female)\n",
        "\n",
        "\n",
        "new_female_accepted_loans_count = len(new_df_female[new_df_female['Target'] == 1])\n",
        "new_female_ratio = new_female_accepted_loans_count/new_female_count\n",
        "\n",
        "\n",
        "new_male_accepted_loans_count = len(new_df_male[new_df_male['Target'] == 1])\n",
        "new_male_ratio = new_male_accepted_loans_count/new_male_count\n",
        "\n",
        "new_desperate_impact = new_female_ratio/new_male_ratio\n",
        "\n",
        "new_spd = new_female_ratio - new_male_ratio"
      ],
      "execution_count": null,
      "outputs": []
    },
    {
      "cell_type": "code",
      "metadata": {
        "id": "hT34GudD1F57",
        "colab": {
          "base_uri": "https://localhost:8080/"
        },
        "outputId": "f022d4c0-bec4-4177-9e9a-f0d316d08a4e"
      },
      "source": [
        "print(\"Female favorable outcome rate:\\t%.2f\" % new_female_ratio)\n",
        "print('------------------------------------')\n",
        "print(\"Male favorable outcome rate:\\t%.2f\" % new_male_ratio)\n",
        "print('------------------------------------')\n",
        "print(\"Desparate Impact value:\\t\\t%.2f\" % new_desperate_impact)\n",
        "print('------------------------------------')\n",
        "print(\"Statistical Parity Difference: %.2f\" % new_spd)"
      ],
      "execution_count": null,
      "outputs": [
        {
          "output_type": "stream",
          "text": [
            "Female favorable outcome rate:\t0.51\n",
            "------------------------------------\n",
            "Male favorable outcome rate:\t0.72\n",
            "------------------------------------\n",
            "Desparate Impact value:\t\t0.71\n",
            "------------------------------------\n",
            "Statistical Parity Difference: -0.21\n"
          ],
          "name": "stdout"
        }
      ]
    },
    {
      "cell_type": "markdown",
      "metadata": {
        "id": "bBmp9MkaZcej"
      },
      "source": [
        "The DI value has slightly increased after we applied the preprocessing bias mitigation technique. We went from 0.61 after training to 0.71 (7% increase). However, we still have $DI<0.8$ which shows that the adverse impact on female group remains even though it is lower than what we used to have."
      ]
    },
    {
      "cell_type": "markdown",
      "metadata": {
        "id": "Zb8AoARZ8Oy8"
      },
      "source": [
        "# 8. Conclusion"
      ]
    },
    {
      "cell_type": "markdown",
      "metadata": {
        "id": "ni7SCCgcYjDi"
      },
      "source": [
        "In this notebook, we have studied the issue of bias in Machine Learning. There has been in the recent years a growing interest in identifying bias and designing algorithms that make fair predictions and that do not have any adverse impact on certain groups. We have seen that biases in algorithms are the reflection of human biases that algorithms learn from training data. They are amplified by machine learning algorithms"
      ]
    }
  ]
}